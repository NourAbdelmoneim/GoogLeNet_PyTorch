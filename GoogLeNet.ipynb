{
 "cells": [
  {
   "cell_type": "markdown",
   "metadata": {
    "id": "8McKAZpzCOWx"
   },
   "source": [
    "# GoogLeNet with PyTorch"
   ]
  },
  {
   "cell_type": "markdown",
   "metadata": {
    "id": "IQeDUPLKCOW0"
   },
   "source": [
    "-------------\n",
    "## Importing Packages"
   ]
  },
  {
   "cell_type": "code",
   "execution_count": 1,
   "metadata": {
    "executionInfo": {
     "elapsed": 4550,
     "status": "ok",
     "timestamp": 1622961614338,
     "user": {
      "displayName": "Nour Abdelmoneim",
      "photoUrl": "https://lh3.googleusercontent.com/a-/AOh14GjxMvzHOFzGnWo39XZfwJxdF1owfpgQ1tfYRCr2=s64",
      "userId": "15792553944982680133"
     },
     "user_tz": -240
    },
    "id": "Otz5guVJCOW3"
   },
   "outputs": [],
   "source": [
    "from __future__ import division\n",
    "\n",
    "import warnings\n",
    "from collections import namedtuple\n",
    "import torch\n",
    "import torch.nn as nn\n",
    "import torch.nn.functional as F\n",
    "from torch.jit.annotations import Optional, Tuple\n",
    "from torch import Tensor\n",
    "import torchvision\n",
    "from torchvision import transforms\n",
    "import torch.optim as optim\n",
    "import os"
   ]
  },
  {
   "cell_type": "markdown",
   "metadata": {
    "id": "tzz09-_zCOW4"
   },
   "source": [
    "-----\n",
    "## GPU Device Configuration"
   ]
  },
  {
   "cell_type": "code",
   "execution_count": 4,
   "metadata": {
    "colab": {
     "base_uri": "https://localhost:8080/"
    },
    "executionInfo": {
     "elapsed": 389,
     "status": "ok",
     "timestamp": 1622961635774,
     "user": {
      "displayName": "Nour Abdelmoneim",
      "photoUrl": "https://lh3.googleusercontent.com/a-/AOh14GjxMvzHOFzGnWo39XZfwJxdF1owfpgQ1tfYRCr2=s64",
      "userId": "15792553944982680133"
     },
     "user_tz": -240
    },
    "id": "wyp_lfmwCOW4",
    "outputId": "36264732-606c-4de3-fd08-9bd4690a5e4a"
   },
   "outputs": [
    {
     "name": "stdout",
     "output_type": "stream",
     "text": [
      "cuda\n"
     ]
    }
   ],
   "source": [
    "device = torch.device('cuda' if torch.cuda.is_available() else 'cpu')\n",
    "print(device)"
   ]
  },
  {
   "cell_type": "markdown",
   "metadata": {
    "id": "XPfHWDH3COW5"
   },
   "source": [
    "-----\n",
    "## Hyperparameters"
   ]
  },
  {
   "cell_type": "code",
   "execution_count": 5,
   "metadata": {
    "executionInfo": {
     "elapsed": 334,
     "status": "ok",
     "timestamp": 1622961639380,
     "user": {
      "displayName": "Nour Abdelmoneim",
      "photoUrl": "https://lh3.googleusercontent.com/a-/AOh14GjxMvzHOFzGnWo39XZfwJxdF1owfpgQ1tfYRCr2=s64",
      "userId": "15792553944982680133"
     },
     "user_tz": -240
    },
    "id": "VCwUNmflCOW5"
   },
   "outputs": [],
   "source": [
    "learning_rate = 0.0001\n",
    "trainingBatch = 70\n",
    "testBatch = 70\n",
    "n_epochs = 15\n",
    "outputDirectory = \"modelSaved\""
   ]
  },
  {
   "cell_type": "markdown",
   "metadata": {
    "id": "xHDu-CJKCOW5"
   },
   "source": [
    "Creating a directory to save the model"
   ]
  },
  {
   "cell_type": "code",
   "execution_count": 6,
   "metadata": {
    "executionInfo": {
     "elapsed": 529,
     "status": "ok",
     "timestamp": 1622961642973,
     "user": {
      "displayName": "Nour Abdelmoneim",
      "photoUrl": "https://lh3.googleusercontent.com/a-/AOh14GjxMvzHOFzGnWo39XZfwJxdF1owfpgQ1tfYRCr2=s64",
      "userId": "15792553944982680133"
     },
     "user_tz": -240
    },
    "id": "asMTuDh1COW6"
   },
   "outputs": [],
   "source": [
    "if not os.path.exists(outputDirectory):   \n",
    "    os.makedirs(outputDirectory)"
   ]
  },
  {
   "cell_type": "markdown",
   "metadata": {
    "id": "F-bQd3pTCOW6"
   },
   "source": [
    "-----\n",
    "##  Data Loading\n",
    "\n",
    "### Importing Libraries"
   ]
  },
  {
   "cell_type": "code",
   "execution_count": 7,
   "metadata": {
    "executionInfo": {
     "elapsed": 423,
     "status": "ok",
     "timestamp": 1622961646255,
     "user": {
      "displayName": "Nour Abdelmoneim",
      "photoUrl": "https://lh3.googleusercontent.com/a-/AOh14GjxMvzHOFzGnWo39XZfwJxdF1owfpgQ1tfYRCr2=s64",
      "userId": "15792553944982680133"
     },
     "user_tz": -240
    },
    "id": "T_8MutjWCOW6"
   },
   "outputs": [],
   "source": [
    "import numpy as np\n",
    "import os.path\n",
    "from glob import glob\n",
    "from PIL import Image\n",
    "from tqdm import tqdm\n",
    "import torchvision.datasets as dset\n",
    "import torch.utils.data as data\n",
    "from ipywidgets import IntProgress"
   ]
  },
  {
   "cell_type": "markdown",
   "metadata": {
    "id": "hUC6ToOZCOW6"
   },
   "source": [
    "###  Image processing"
   ]
  },
  {
   "cell_type": "code",
   "execution_count": 8,
   "metadata": {
    "executionInfo": {
     "elapsed": 8,
     "status": "ok",
     "timestamp": 1622961649373,
     "user": {
      "displayName": "Nour Abdelmoneim",
      "photoUrl": "https://lh3.googleusercontent.com/a-/AOh14GjxMvzHOFzGnWo39XZfwJxdF1owfpgQ1tfYRCr2=s64",
      "userId": "15792553944982680133"
     },
     "user_tz": -240
    },
    "id": "RO2g-SvNCOW7"
   },
   "outputs": [],
   "source": [
    "train_transform = transforms.Compose([transforms.RandomHorizontalFlip(), transforms.ToTensor()])\n",
    "test_transform = transforms.Compose([transforms.ToTensor()])"
   ]
  },
  {
   "cell_type": "markdown",
   "metadata": {
    "id": "moNG6ZQTCOW7"
   },
   "source": [
    "-----\n",
    "### Downloading Data\n",
    "Downloading data and creating training and testing splits"
   ]
  },
  {
   "cell_type": "code",
   "execution_count": 9,
   "metadata": {
    "colab": {
     "base_uri": "https://localhost:8080/",
     "height": 116,
     "referenced_widgets": [
      "0ab7465b5807419880b1067ad6f7d636",
      "a931bc4c92234ae1a7d0db7b93b6624c",
      "fc64ee54055241ada32d343d08aaaa25",
      "26d7ab0bb4294fdba9a551070ac70f97",
      "d87f641ddc45454b83b8463e92d60ae6",
      "f8c6d7a2fdb640eb893f8b43459465ec",
      "981ac6c344a84b519855ed839069856b",
      "073b41529a6442ae8052a8288154d8fd"
     ]
    },
    "executionInfo": {
     "elapsed": 9942,
     "status": "ok",
     "timestamp": 1622961660678,
     "user": {
      "displayName": "Nour Abdelmoneim",
      "photoUrl": "https://lh3.googleusercontent.com/a-/AOh14GjxMvzHOFzGnWo39XZfwJxdF1owfpgQ1tfYRCr2=s64",
      "userId": "15792553944982680133"
     },
     "user_tz": -240
    },
    "id": "WuJop_I7COW7",
    "outputId": "3e13b7ab-44a0-41fd-e282-d2898250bcb2"
   },
   "outputs": [
    {
     "name": "stdout",
     "output_type": "stream",
     "text": [
      "Downloading https://www.cs.toronto.edu/~kriz/cifar-10-python.tar.gz to ./data/cifar-10-python.tar.gz\n"
     ]
    },
    {
     "data": {
      "application/vnd.jupyter.widget-view+json": {
       "model_id": "0ab7465b5807419880b1067ad6f7d636",
       "version_major": 2,
       "version_minor": 0
      },
      "text/plain": [
       "HBox(children=(FloatProgress(value=0.0, max=170498071.0), HTML(value='')))"
      ]
     },
     "metadata": {
      "tags": []
     },
     "output_type": "display_data"
    },
    {
     "name": "stdout",
     "output_type": "stream",
     "text": [
      "\n",
      "Extracting ./data/cifar-10-python.tar.gz to ./data\n",
      "Files already downloaded and verified\n"
     ]
    }
   ],
   "source": [
    "train_set = torchvision.datasets.CIFAR10(root='./data', train=True, download=True, transform=train_transform)\n",
    "train_loader = torch.utils.data.DataLoader(dataset=train_set, batch_size=trainingBatch, shuffle=True)\n",
    "test_set = torchvision.datasets.CIFAR10(root='./data', train=False, download=True, transform=test_transform)\n",
    "test_loader = torch.utils.data.DataLoader(dataset=test_set, batch_size=testBatch, shuffle=False)"
   ]
  },
  {
   "cell_type": "markdown",
   "metadata": {
    "id": "MFknhKh9COW8"
   },
   "source": [
    "-----\n",
    "#  Creating Network\n",
    "\n",
    "Defining an inception class and using it to create a GoogLeNet class."
   ]
  },
  {
   "cell_type": "markdown",
   "metadata": {
    "id": "nGVInjuqCOW8"
   },
   "source": [
    "------\n",
    "# Inception Module\n",
    "\n",
    "Creating an inception block class. The __init__ function requires 7 arguments as inputs and implements 4 blocks consisting of convolutions, normalization, max pooling, and ReLu activation functions. The forward function takes the data as input and concatenates the ouput of the 4 blocks."
   ]
  },
  {
   "cell_type": "code",
   "execution_count": 10,
   "metadata": {
    "executionInfo": {
     "elapsed": 407,
     "status": "ok",
     "timestamp": 1622961665699,
     "user": {
      "displayName": "Nour Abdelmoneim",
      "photoUrl": "https://lh3.googleusercontent.com/a-/AOh14GjxMvzHOFzGnWo39XZfwJxdF1owfpgQ1tfYRCr2=s64",
      "userId": "15792553944982680133"
     },
     "user_tz": -240
    },
    "id": "WEhogwiECOW9"
   },
   "outputs": [],
   "source": [
    "class inception(nn.Module):\n",
    "    def __init__(self, in_planes, kernel_1_x, kernel_3_in, kernel_3_x, kernel_5_in, kernel_5_x, pool_planes):\n",
    "        \n",
    "        super(inception, self).__init__()\n",
    "        \n",
    "        # 1x1 conv branch\n",
    "        self.b1 = nn.Sequential(\n",
    "            nn.Conv2d(in_planes, kernel_1_x, kernel_size=1),\n",
    "            nn.BatchNorm2d(kernel_1_x),\n",
    "            nn.ReLU(True),\n",
    "        )\n",
    "\n",
    "        # 1x1 conv -> 3x3 conv branch\n",
    "        self.b2 = nn.Sequential(\n",
    "            nn.Conv2d(in_planes, kernel_3_in, kernel_size = 1),\n",
    "            nn.BatchNorm2d(kernel_3_in),\n",
    "            nn.ReLU(True),\n",
    "            \n",
    "            nn.Conv2d(kernel_3_in, kernel_3_x, kernel_size = 3, padding = 1),\n",
    "            nn.BatchNorm2d(kernel_3_x),\n",
    "            nn.ReLU(True)\n",
    "        )\n",
    "\n",
    "\n",
    "        # 1x1 conv -> 5x5 conv branch\n",
    "        self.b3 = nn.Sequential(\n",
    "            nn.Conv2d(in_planes, kernel_5_in, kernel_size = 1),\n",
    "            nn.BatchNorm2d(kernel_5_in),\n",
    "            nn.ReLU(True),\n",
    "            \n",
    "            nn.Conv2d(kernel_5_in, kernel_5_x, kernel_size = 3, padding = 1),\n",
    "            nn.BatchNorm2d(kernel_5_x),\n",
    "            nn.ReLU(True),\n",
    "            \n",
    "            nn.Conv2d(kernel_5_x, kernel_5_x, kernel_size = 3, padding = 1),\n",
    "            nn.BatchNorm2d(kernel_5_x),\n",
    "            nn.ReLU(True)\n",
    "        )\n",
    "\n",
    "        # 3x3 pool -> 1x1 conv branch\n",
    "        self.b4 = nn.Sequential(\n",
    "            nn.MaxPool2d(3, padding = 1, stride = 1),\n",
    "            nn.Conv2d(in_planes, pool_planes, kernel_size=1),\n",
    "            nn.BatchNorm2d(pool_planes),\n",
    "            nn.ReLU(True)\n",
    "        )\n",
    "            \n",
    "    def forward(self, x):\n",
    "        \n",
    "        output = torch.cat([self.b1(x),self.b2(x),self.b3(x),self.b4(x)],1)\n",
    "        \n",
    "        return output\n",
    "        "
   ]
  },
  {
   "cell_type": "markdown",
   "metadata": {
    "id": "DGU4gfQPCOW9"
   },
   "source": [
    "-----\n",
    "## GoogLeNet Module "
   ]
  },
  {
   "cell_type": "code",
   "execution_count": 11,
   "metadata": {
    "executionInfo": {
     "elapsed": 614,
     "status": "ok",
     "timestamp": 1622961673118,
     "user": {
      "displayName": "Nour Abdelmoneim",
      "photoUrl": "https://lh3.googleusercontent.com/a-/AOh14GjxMvzHOFzGnWo39XZfwJxdF1owfpgQ1tfYRCr2=s64",
      "userId": "15792553944982680133"
     },
     "user_tz": -240
    },
    "id": "_34NyfTMCOW-"
   },
   "outputs": [],
   "source": [
    "class GoogLeNet(nn.Module):\n",
    "    def __init__(self):\n",
    "        \n",
    "        super(GoogLeNet, self).__init__()\n",
    "        \n",
    "        self.c1 = nn.Sequential(\n",
    "            nn.Conv2d(3, 192, kernel_size = 3, padding = 1),\n",
    "            nn.BatchNorm2d(192),\n",
    "            nn.ReLU(True)\n",
    "        )\n",
    "          \n",
    "        self.i3a = inception(192,64,96,128,16,32,32)\n",
    "        self.i3b = inception(256,128,128,192,32,96,64)\n",
    "        self.m1 = nn.MaxPool2d(kernel_size = 3, stride = 2, padding = 1)\n",
    "        \n",
    "        self.i4a = inception(480,192,96,208,16,48,64)\n",
    "        self.i4b = inception(512,160,112,224,24,64,64)\n",
    "        self.i4c = inception(512,128,128,256,24,64,64)\n",
    "        self.i4d = inception(512,112,144,288,32,64,64)\n",
    "        self.i4e = inception(528,256,160,320,32,128,128)\n",
    "        self.m2 = nn.MaxPool2d(kernel_size = 3, stride = 2, padding = 1)\n",
    "        \n",
    "        self.i5a = inception(832,256,160,320,32,128,128)\n",
    "        self.i5b = inception(832,384,192,384,48,128,128)\n",
    "        \n",
    "        self.avg = nn.AvgPool2d(8, stride = 1)\n",
    "        self.fc = nn.Linear(1024,10)\n",
    "    \n",
    "    def forward(self, x):\n",
    "        output = self.c1(x)\n",
    "        \n",
    "        output = self.i3a(output)\n",
    "        output = self.i3b(output)\n",
    "        \n",
    "        output = self.m1(output)\n",
    "        \n",
    "        output = self.i4a(output)\n",
    "        output = self.i4b(output)\n",
    "        output = self.i4c(output)\n",
    "        output = self.i4d(output)\n",
    "        output = self.i4e(output)\n",
    "        output = self.m2(output)\n",
    "                \n",
    "        output = self.i5a(output)\n",
    "        output = self.i5b(output)\n",
    "        \n",
    "        output = self.avg(output)\n",
    "        \n",
    "        output = output.view(output.size(0),-1)\n",
    "        output = self.fc(output)\n",
    "        \n",
    "        return output\n",
    "        \n",
    "    "
   ]
  },
  {
   "cell_type": "markdown",
   "metadata": {
    "id": "RvTRcKm7COW_"
   },
   "source": [
    "## Creating Network\n",
    "Creating the model and sending it to the target device."
   ]
  },
  {
   "cell_type": "code",
   "execution_count": 12,
   "metadata": {
    "colab": {
     "base_uri": "https://localhost:8080/"
    },
    "executionInfo": {
     "elapsed": 11061,
     "status": "ok",
     "timestamp": 1622961689049,
     "user": {
      "displayName": "Nour Abdelmoneim",
      "photoUrl": "https://lh3.googleusercontent.com/a-/AOh14GjxMvzHOFzGnWo39XZfwJxdF1owfpgQ1tfYRCr2=s64",
      "userId": "15792553944982680133"
     },
     "user_tz": -240
    },
    "id": "_9m-NTYECOW_",
    "outputId": "212633f4-ef3f-4bcc-9da6-92b71b9d772d"
   },
   "outputs": [
    {
     "data": {
      "text/plain": [
       "GoogLeNet(\n",
       "  (c1): Sequential(\n",
       "    (0): Conv2d(3, 192, kernel_size=(3, 3), stride=(1, 1), padding=(1, 1))\n",
       "    (1): BatchNorm2d(192, eps=1e-05, momentum=0.1, affine=True, track_running_stats=True)\n",
       "    (2): ReLU(inplace=True)\n",
       "  )\n",
       "  (i3a): inception(\n",
       "    (b1): Sequential(\n",
       "      (0): Conv2d(192, 64, kernel_size=(1, 1), stride=(1, 1))\n",
       "      (1): BatchNorm2d(64, eps=1e-05, momentum=0.1, affine=True, track_running_stats=True)\n",
       "      (2): ReLU(inplace=True)\n",
       "    )\n",
       "    (b2): Sequential(\n",
       "      (0): Conv2d(192, 96, kernel_size=(1, 1), stride=(1, 1))\n",
       "      (1): BatchNorm2d(96, eps=1e-05, momentum=0.1, affine=True, track_running_stats=True)\n",
       "      (2): ReLU(inplace=True)\n",
       "      (3): Conv2d(96, 128, kernel_size=(3, 3), stride=(1, 1), padding=(1, 1))\n",
       "      (4): BatchNorm2d(128, eps=1e-05, momentum=0.1, affine=True, track_running_stats=True)\n",
       "      (5): ReLU(inplace=True)\n",
       "    )\n",
       "    (b3): Sequential(\n",
       "      (0): Conv2d(192, 16, kernel_size=(1, 1), stride=(1, 1))\n",
       "      (1): BatchNorm2d(16, eps=1e-05, momentum=0.1, affine=True, track_running_stats=True)\n",
       "      (2): ReLU(inplace=True)\n",
       "      (3): Conv2d(16, 32, kernel_size=(3, 3), stride=(1, 1), padding=(1, 1))\n",
       "      (4): BatchNorm2d(32, eps=1e-05, momentum=0.1, affine=True, track_running_stats=True)\n",
       "      (5): ReLU(inplace=True)\n",
       "      (6): Conv2d(32, 32, kernel_size=(3, 3), stride=(1, 1), padding=(1, 1))\n",
       "      (7): BatchNorm2d(32, eps=1e-05, momentum=0.1, affine=True, track_running_stats=True)\n",
       "      (8): ReLU(inplace=True)\n",
       "    )\n",
       "    (b4): Sequential(\n",
       "      (0): MaxPool2d(kernel_size=3, stride=1, padding=1, dilation=1, ceil_mode=False)\n",
       "      (1): Conv2d(192, 32, kernel_size=(1, 1), stride=(1, 1))\n",
       "      (2): BatchNorm2d(32, eps=1e-05, momentum=0.1, affine=True, track_running_stats=True)\n",
       "      (3): ReLU(inplace=True)\n",
       "    )\n",
       "  )\n",
       "  (i3b): inception(\n",
       "    (b1): Sequential(\n",
       "      (0): Conv2d(256, 128, kernel_size=(1, 1), stride=(1, 1))\n",
       "      (1): BatchNorm2d(128, eps=1e-05, momentum=0.1, affine=True, track_running_stats=True)\n",
       "      (2): ReLU(inplace=True)\n",
       "    )\n",
       "    (b2): Sequential(\n",
       "      (0): Conv2d(256, 128, kernel_size=(1, 1), stride=(1, 1))\n",
       "      (1): BatchNorm2d(128, eps=1e-05, momentum=0.1, affine=True, track_running_stats=True)\n",
       "      (2): ReLU(inplace=True)\n",
       "      (3): Conv2d(128, 192, kernel_size=(3, 3), stride=(1, 1), padding=(1, 1))\n",
       "      (4): BatchNorm2d(192, eps=1e-05, momentum=0.1, affine=True, track_running_stats=True)\n",
       "      (5): ReLU(inplace=True)\n",
       "    )\n",
       "    (b3): Sequential(\n",
       "      (0): Conv2d(256, 32, kernel_size=(1, 1), stride=(1, 1))\n",
       "      (1): BatchNorm2d(32, eps=1e-05, momentum=0.1, affine=True, track_running_stats=True)\n",
       "      (2): ReLU(inplace=True)\n",
       "      (3): Conv2d(32, 96, kernel_size=(3, 3), stride=(1, 1), padding=(1, 1))\n",
       "      (4): BatchNorm2d(96, eps=1e-05, momentum=0.1, affine=True, track_running_stats=True)\n",
       "      (5): ReLU(inplace=True)\n",
       "      (6): Conv2d(96, 96, kernel_size=(3, 3), stride=(1, 1), padding=(1, 1))\n",
       "      (7): BatchNorm2d(96, eps=1e-05, momentum=0.1, affine=True, track_running_stats=True)\n",
       "      (8): ReLU(inplace=True)\n",
       "    )\n",
       "    (b4): Sequential(\n",
       "      (0): MaxPool2d(kernel_size=3, stride=1, padding=1, dilation=1, ceil_mode=False)\n",
       "      (1): Conv2d(256, 64, kernel_size=(1, 1), stride=(1, 1))\n",
       "      (2): BatchNorm2d(64, eps=1e-05, momentum=0.1, affine=True, track_running_stats=True)\n",
       "      (3): ReLU(inplace=True)\n",
       "    )\n",
       "  )\n",
       "  (m1): MaxPool2d(kernel_size=3, stride=2, padding=1, dilation=1, ceil_mode=False)\n",
       "  (i4a): inception(\n",
       "    (b1): Sequential(\n",
       "      (0): Conv2d(480, 192, kernel_size=(1, 1), stride=(1, 1))\n",
       "      (1): BatchNorm2d(192, eps=1e-05, momentum=0.1, affine=True, track_running_stats=True)\n",
       "      (2): ReLU(inplace=True)\n",
       "    )\n",
       "    (b2): Sequential(\n",
       "      (0): Conv2d(480, 96, kernel_size=(1, 1), stride=(1, 1))\n",
       "      (1): BatchNorm2d(96, eps=1e-05, momentum=0.1, affine=True, track_running_stats=True)\n",
       "      (2): ReLU(inplace=True)\n",
       "      (3): Conv2d(96, 208, kernel_size=(3, 3), stride=(1, 1), padding=(1, 1))\n",
       "      (4): BatchNorm2d(208, eps=1e-05, momentum=0.1, affine=True, track_running_stats=True)\n",
       "      (5): ReLU(inplace=True)\n",
       "    )\n",
       "    (b3): Sequential(\n",
       "      (0): Conv2d(480, 16, kernel_size=(1, 1), stride=(1, 1))\n",
       "      (1): BatchNorm2d(16, eps=1e-05, momentum=0.1, affine=True, track_running_stats=True)\n",
       "      (2): ReLU(inplace=True)\n",
       "      (3): Conv2d(16, 48, kernel_size=(3, 3), stride=(1, 1), padding=(1, 1))\n",
       "      (4): BatchNorm2d(48, eps=1e-05, momentum=0.1, affine=True, track_running_stats=True)\n",
       "      (5): ReLU(inplace=True)\n",
       "      (6): Conv2d(48, 48, kernel_size=(3, 3), stride=(1, 1), padding=(1, 1))\n",
       "      (7): BatchNorm2d(48, eps=1e-05, momentum=0.1, affine=True, track_running_stats=True)\n",
       "      (8): ReLU(inplace=True)\n",
       "    )\n",
       "    (b4): Sequential(\n",
       "      (0): MaxPool2d(kernel_size=3, stride=1, padding=1, dilation=1, ceil_mode=False)\n",
       "      (1): Conv2d(480, 64, kernel_size=(1, 1), stride=(1, 1))\n",
       "      (2): BatchNorm2d(64, eps=1e-05, momentum=0.1, affine=True, track_running_stats=True)\n",
       "      (3): ReLU(inplace=True)\n",
       "    )\n",
       "  )\n",
       "  (i4b): inception(\n",
       "    (b1): Sequential(\n",
       "      (0): Conv2d(512, 160, kernel_size=(1, 1), stride=(1, 1))\n",
       "      (1): BatchNorm2d(160, eps=1e-05, momentum=0.1, affine=True, track_running_stats=True)\n",
       "      (2): ReLU(inplace=True)\n",
       "    )\n",
       "    (b2): Sequential(\n",
       "      (0): Conv2d(512, 112, kernel_size=(1, 1), stride=(1, 1))\n",
       "      (1): BatchNorm2d(112, eps=1e-05, momentum=0.1, affine=True, track_running_stats=True)\n",
       "      (2): ReLU(inplace=True)\n",
       "      (3): Conv2d(112, 224, kernel_size=(3, 3), stride=(1, 1), padding=(1, 1))\n",
       "      (4): BatchNorm2d(224, eps=1e-05, momentum=0.1, affine=True, track_running_stats=True)\n",
       "      (5): ReLU(inplace=True)\n",
       "    )\n",
       "    (b3): Sequential(\n",
       "      (0): Conv2d(512, 24, kernel_size=(1, 1), stride=(1, 1))\n",
       "      (1): BatchNorm2d(24, eps=1e-05, momentum=0.1, affine=True, track_running_stats=True)\n",
       "      (2): ReLU(inplace=True)\n",
       "      (3): Conv2d(24, 64, kernel_size=(3, 3), stride=(1, 1), padding=(1, 1))\n",
       "      (4): BatchNorm2d(64, eps=1e-05, momentum=0.1, affine=True, track_running_stats=True)\n",
       "      (5): ReLU(inplace=True)\n",
       "      (6): Conv2d(64, 64, kernel_size=(3, 3), stride=(1, 1), padding=(1, 1))\n",
       "      (7): BatchNorm2d(64, eps=1e-05, momentum=0.1, affine=True, track_running_stats=True)\n",
       "      (8): ReLU(inplace=True)\n",
       "    )\n",
       "    (b4): Sequential(\n",
       "      (0): MaxPool2d(kernel_size=3, stride=1, padding=1, dilation=1, ceil_mode=False)\n",
       "      (1): Conv2d(512, 64, kernel_size=(1, 1), stride=(1, 1))\n",
       "      (2): BatchNorm2d(64, eps=1e-05, momentum=0.1, affine=True, track_running_stats=True)\n",
       "      (3): ReLU(inplace=True)\n",
       "    )\n",
       "  )\n",
       "  (i4c): inception(\n",
       "    (b1): Sequential(\n",
       "      (0): Conv2d(512, 128, kernel_size=(1, 1), stride=(1, 1))\n",
       "      (1): BatchNorm2d(128, eps=1e-05, momentum=0.1, affine=True, track_running_stats=True)\n",
       "      (2): ReLU(inplace=True)\n",
       "    )\n",
       "    (b2): Sequential(\n",
       "      (0): Conv2d(512, 128, kernel_size=(1, 1), stride=(1, 1))\n",
       "      (1): BatchNorm2d(128, eps=1e-05, momentum=0.1, affine=True, track_running_stats=True)\n",
       "      (2): ReLU(inplace=True)\n",
       "      (3): Conv2d(128, 256, kernel_size=(3, 3), stride=(1, 1), padding=(1, 1))\n",
       "      (4): BatchNorm2d(256, eps=1e-05, momentum=0.1, affine=True, track_running_stats=True)\n",
       "      (5): ReLU(inplace=True)\n",
       "    )\n",
       "    (b3): Sequential(\n",
       "      (0): Conv2d(512, 24, kernel_size=(1, 1), stride=(1, 1))\n",
       "      (1): BatchNorm2d(24, eps=1e-05, momentum=0.1, affine=True, track_running_stats=True)\n",
       "      (2): ReLU(inplace=True)\n",
       "      (3): Conv2d(24, 64, kernel_size=(3, 3), stride=(1, 1), padding=(1, 1))\n",
       "      (4): BatchNorm2d(64, eps=1e-05, momentum=0.1, affine=True, track_running_stats=True)\n",
       "      (5): ReLU(inplace=True)\n",
       "      (6): Conv2d(64, 64, kernel_size=(3, 3), stride=(1, 1), padding=(1, 1))\n",
       "      (7): BatchNorm2d(64, eps=1e-05, momentum=0.1, affine=True, track_running_stats=True)\n",
       "      (8): ReLU(inplace=True)\n",
       "    )\n",
       "    (b4): Sequential(\n",
       "      (0): MaxPool2d(kernel_size=3, stride=1, padding=1, dilation=1, ceil_mode=False)\n",
       "      (1): Conv2d(512, 64, kernel_size=(1, 1), stride=(1, 1))\n",
       "      (2): BatchNorm2d(64, eps=1e-05, momentum=0.1, affine=True, track_running_stats=True)\n",
       "      (3): ReLU(inplace=True)\n",
       "    )\n",
       "  )\n",
       "  (i4d): inception(\n",
       "    (b1): Sequential(\n",
       "      (0): Conv2d(512, 112, kernel_size=(1, 1), stride=(1, 1))\n",
       "      (1): BatchNorm2d(112, eps=1e-05, momentum=0.1, affine=True, track_running_stats=True)\n",
       "      (2): ReLU(inplace=True)\n",
       "    )\n",
       "    (b2): Sequential(\n",
       "      (0): Conv2d(512, 144, kernel_size=(1, 1), stride=(1, 1))\n",
       "      (1): BatchNorm2d(144, eps=1e-05, momentum=0.1, affine=True, track_running_stats=True)\n",
       "      (2): ReLU(inplace=True)\n",
       "      (3): Conv2d(144, 288, kernel_size=(3, 3), stride=(1, 1), padding=(1, 1))\n",
       "      (4): BatchNorm2d(288, eps=1e-05, momentum=0.1, affine=True, track_running_stats=True)\n",
       "      (5): ReLU(inplace=True)\n",
       "    )\n",
       "    (b3): Sequential(\n",
       "      (0): Conv2d(512, 32, kernel_size=(1, 1), stride=(1, 1))\n",
       "      (1): BatchNorm2d(32, eps=1e-05, momentum=0.1, affine=True, track_running_stats=True)\n",
       "      (2): ReLU(inplace=True)\n",
       "      (3): Conv2d(32, 64, kernel_size=(3, 3), stride=(1, 1), padding=(1, 1))\n",
       "      (4): BatchNorm2d(64, eps=1e-05, momentum=0.1, affine=True, track_running_stats=True)\n",
       "      (5): ReLU(inplace=True)\n",
       "      (6): Conv2d(64, 64, kernel_size=(3, 3), stride=(1, 1), padding=(1, 1))\n",
       "      (7): BatchNorm2d(64, eps=1e-05, momentum=0.1, affine=True, track_running_stats=True)\n",
       "      (8): ReLU(inplace=True)\n",
       "    )\n",
       "    (b4): Sequential(\n",
       "      (0): MaxPool2d(kernel_size=3, stride=1, padding=1, dilation=1, ceil_mode=False)\n",
       "      (1): Conv2d(512, 64, kernel_size=(1, 1), stride=(1, 1))\n",
       "      (2): BatchNorm2d(64, eps=1e-05, momentum=0.1, affine=True, track_running_stats=True)\n",
       "      (3): ReLU(inplace=True)\n",
       "    )\n",
       "  )\n",
       "  (i4e): inception(\n",
       "    (b1): Sequential(\n",
       "      (0): Conv2d(528, 256, kernel_size=(1, 1), stride=(1, 1))\n",
       "      (1): BatchNorm2d(256, eps=1e-05, momentum=0.1, affine=True, track_running_stats=True)\n",
       "      (2): ReLU(inplace=True)\n",
       "    )\n",
       "    (b2): Sequential(\n",
       "      (0): Conv2d(528, 160, kernel_size=(1, 1), stride=(1, 1))\n",
       "      (1): BatchNorm2d(160, eps=1e-05, momentum=0.1, affine=True, track_running_stats=True)\n",
       "      (2): ReLU(inplace=True)\n",
       "      (3): Conv2d(160, 320, kernel_size=(3, 3), stride=(1, 1), padding=(1, 1))\n",
       "      (4): BatchNorm2d(320, eps=1e-05, momentum=0.1, affine=True, track_running_stats=True)\n",
       "      (5): ReLU(inplace=True)\n",
       "    )\n",
       "    (b3): Sequential(\n",
       "      (0): Conv2d(528, 32, kernel_size=(1, 1), stride=(1, 1))\n",
       "      (1): BatchNorm2d(32, eps=1e-05, momentum=0.1, affine=True, track_running_stats=True)\n",
       "      (2): ReLU(inplace=True)\n",
       "      (3): Conv2d(32, 128, kernel_size=(3, 3), stride=(1, 1), padding=(1, 1))\n",
       "      (4): BatchNorm2d(128, eps=1e-05, momentum=0.1, affine=True, track_running_stats=True)\n",
       "      (5): ReLU(inplace=True)\n",
       "      (6): Conv2d(128, 128, kernel_size=(3, 3), stride=(1, 1), padding=(1, 1))\n",
       "      (7): BatchNorm2d(128, eps=1e-05, momentum=0.1, affine=True, track_running_stats=True)\n",
       "      (8): ReLU(inplace=True)\n",
       "    )\n",
       "    (b4): Sequential(\n",
       "      (0): MaxPool2d(kernel_size=3, stride=1, padding=1, dilation=1, ceil_mode=False)\n",
       "      (1): Conv2d(528, 128, kernel_size=(1, 1), stride=(1, 1))\n",
       "      (2): BatchNorm2d(128, eps=1e-05, momentum=0.1, affine=True, track_running_stats=True)\n",
       "      (3): ReLU(inplace=True)\n",
       "    )\n",
       "  )\n",
       "  (m2): MaxPool2d(kernel_size=3, stride=2, padding=1, dilation=1, ceil_mode=False)\n",
       "  (i5a): inception(\n",
       "    (b1): Sequential(\n",
       "      (0): Conv2d(832, 256, kernel_size=(1, 1), stride=(1, 1))\n",
       "      (1): BatchNorm2d(256, eps=1e-05, momentum=0.1, affine=True, track_running_stats=True)\n",
       "      (2): ReLU(inplace=True)\n",
       "    )\n",
       "    (b2): Sequential(\n",
       "      (0): Conv2d(832, 160, kernel_size=(1, 1), stride=(1, 1))\n",
       "      (1): BatchNorm2d(160, eps=1e-05, momentum=0.1, affine=True, track_running_stats=True)\n",
       "      (2): ReLU(inplace=True)\n",
       "      (3): Conv2d(160, 320, kernel_size=(3, 3), stride=(1, 1), padding=(1, 1))\n",
       "      (4): BatchNorm2d(320, eps=1e-05, momentum=0.1, affine=True, track_running_stats=True)\n",
       "      (5): ReLU(inplace=True)\n",
       "    )\n",
       "    (b3): Sequential(\n",
       "      (0): Conv2d(832, 32, kernel_size=(1, 1), stride=(1, 1))\n",
       "      (1): BatchNorm2d(32, eps=1e-05, momentum=0.1, affine=True, track_running_stats=True)\n",
       "      (2): ReLU(inplace=True)\n",
       "      (3): Conv2d(32, 128, kernel_size=(3, 3), stride=(1, 1), padding=(1, 1))\n",
       "      (4): BatchNorm2d(128, eps=1e-05, momentum=0.1, affine=True, track_running_stats=True)\n",
       "      (5): ReLU(inplace=True)\n",
       "      (6): Conv2d(128, 128, kernel_size=(3, 3), stride=(1, 1), padding=(1, 1))\n",
       "      (7): BatchNorm2d(128, eps=1e-05, momentum=0.1, affine=True, track_running_stats=True)\n",
       "      (8): ReLU(inplace=True)\n",
       "    )\n",
       "    (b4): Sequential(\n",
       "      (0): MaxPool2d(kernel_size=3, stride=1, padding=1, dilation=1, ceil_mode=False)\n",
       "      (1): Conv2d(832, 128, kernel_size=(1, 1), stride=(1, 1))\n",
       "      (2): BatchNorm2d(128, eps=1e-05, momentum=0.1, affine=True, track_running_stats=True)\n",
       "      (3): ReLU(inplace=True)\n",
       "    )\n",
       "  )\n",
       "  (i5b): inception(\n",
       "    (b1): Sequential(\n",
       "      (0): Conv2d(832, 384, kernel_size=(1, 1), stride=(1, 1))\n",
       "      (1): BatchNorm2d(384, eps=1e-05, momentum=0.1, affine=True, track_running_stats=True)\n",
       "      (2): ReLU(inplace=True)\n",
       "    )\n",
       "    (b2): Sequential(\n",
       "      (0): Conv2d(832, 192, kernel_size=(1, 1), stride=(1, 1))\n",
       "      (1): BatchNorm2d(192, eps=1e-05, momentum=0.1, affine=True, track_running_stats=True)\n",
       "      (2): ReLU(inplace=True)\n",
       "      (3): Conv2d(192, 384, kernel_size=(3, 3), stride=(1, 1), padding=(1, 1))\n",
       "      (4): BatchNorm2d(384, eps=1e-05, momentum=0.1, affine=True, track_running_stats=True)\n",
       "      (5): ReLU(inplace=True)\n",
       "    )\n",
       "    (b3): Sequential(\n",
       "      (0): Conv2d(832, 48, kernel_size=(1, 1), stride=(1, 1))\n",
       "      (1): BatchNorm2d(48, eps=1e-05, momentum=0.1, affine=True, track_running_stats=True)\n",
       "      (2): ReLU(inplace=True)\n",
       "      (3): Conv2d(48, 128, kernel_size=(3, 3), stride=(1, 1), padding=(1, 1))\n",
       "      (4): BatchNorm2d(128, eps=1e-05, momentum=0.1, affine=True, track_running_stats=True)\n",
       "      (5): ReLU(inplace=True)\n",
       "      (6): Conv2d(128, 128, kernel_size=(3, 3), stride=(1, 1), padding=(1, 1))\n",
       "      (7): BatchNorm2d(128, eps=1e-05, momentum=0.1, affine=True, track_running_stats=True)\n",
       "      (8): ReLU(inplace=True)\n",
       "    )\n",
       "    (b4): Sequential(\n",
       "      (0): MaxPool2d(kernel_size=3, stride=1, padding=1, dilation=1, ceil_mode=False)\n",
       "      (1): Conv2d(832, 128, kernel_size=(1, 1), stride=(1, 1))\n",
       "      (2): BatchNorm2d(128, eps=1e-05, momentum=0.1, affine=True, track_running_stats=True)\n",
       "      (3): ReLU(inplace=True)\n",
       "    )\n",
       "  )\n",
       "  (avg): AvgPool2d(kernel_size=8, stride=1, padding=0)\n",
       "  (fc): Linear(in_features=1024, out_features=10, bias=True)\n",
       ")"
      ]
     },
     "execution_count": 12,
     "metadata": {
      "tags": []
     },
     "output_type": "execute_result"
    }
   ],
   "source": [
    "model = GoogLeNet()\n",
    "model.to(device)"
   ]
  },
  {
   "cell_type": "markdown",
   "metadata": {
    "id": "BDQGqIRECOW_"
   },
   "source": [
    "## Creating Optimizer\n",
    "The optimizer used to train this model is the Adam optimizer. The criterion used is cross entropy loss. The scheduler is used to decay the learning rate of each parameter group."
   ]
  },
  {
   "cell_type": "code",
   "execution_count": 13,
   "metadata": {
    "executionInfo": {
     "elapsed": 411,
     "status": "ok",
     "timestamp": 1622961697652,
     "user": {
      "displayName": "Nour Abdelmoneim",
      "photoUrl": "https://lh3.googleusercontent.com/a-/AOh14GjxMvzHOFzGnWo39XZfwJxdF1owfpgQ1tfYRCr2=s64",
      "userId": "15792553944982680133"
     },
     "user_tz": -240
    },
    "id": "taKyX0VeCOW_"
   },
   "outputs": [],
   "source": [
    "optimizer = optim.Adam(model.parameters(), lr=learning_rate)\n",
    "criterion = nn.CrossEntropyLoss()\n",
    "scheduler = optim.lr_scheduler.StepLR(optimizer, step_size=10, gamma=0.1)"
   ]
  },
  {
   "cell_type": "markdown",
   "metadata": {
    "id": "-XGlv8iqCOXB"
   },
   "source": [
    "-----\n",
    "##  Training Module\n",
    "\n",
    "trainModel( ) trains the network and returns the training loss, the number of correctly predicted labels, and the total amount of data in that iteration."
   ]
  },
  {
   "cell_type": "code",
   "execution_count": 14,
   "metadata": {
    "executionInfo": {
     "elapsed": 411,
     "status": "ok",
     "timestamp": 1622961702770,
     "user": {
      "displayName": "Nour Abdelmoneim",
      "photoUrl": "https://lh3.googleusercontent.com/a-/AOh14GjxMvzHOFzGnWo39XZfwJxdF1owfpgQ1tfYRCr2=s64",
      "userId": "15792553944982680133"
     },
     "user_tz": -240
    },
    "id": "lQCU5F4uCOXB"
   },
   "outputs": [],
   "source": [
    "def trainModel():\n",
    "    \n",
    "    # training model\n",
    "    model.train()\n",
    "    \n",
    "    # initializing variables\n",
    "    trainingLoss = 0\n",
    "    correctLabels = 0\n",
    "    totalData = 0\n",
    "    \n",
    "    # iterating through data \n",
    "    for i, (X,y) in enumerate(train_loader):\n",
    "        \n",
    "        # sending data and label to device\n",
    "        X = X.to(device)\n",
    "        y = y.to(device)\n",
    "        \n",
    "        # resetting the gradient of the optimizer\n",
    "        optimizer.zero_grad()\n",
    "        \n",
    "        # feed forward\n",
    "        result = model(X)\n",
    "        \n",
    "        # getting the prediction of the model\n",
    "        n, predictedLabel = torch.max(result.data,1)\n",
    "        \n",
    "        # computing loss\n",
    "        currentLoss = criterion(result, y)\n",
    "        \n",
    "        # backpropagating loss\n",
    "        currentLoss.backward()\n",
    "        \n",
    "        optimizer.step()\n",
    "        \n",
    "        # adding the current loss term to the cumulative training loss\n",
    "        trainingLoss += currentLoss.data\n",
    "        \n",
    "        # incrementing the total amount of data\n",
    "        totalData += y.size(0)\n",
    "        \n",
    "        # counting correctly predicted labels\n",
    "        correct = (y == predictedLabel).sum()\n",
    "        \n",
    "        # updating total amount of correct predictions accordingly \n",
    "        correctLabels += correct\n",
    "    \n",
    "    return trainingLoss, correctLabels, totalData"
   ]
  },
  {
   "cell_type": "markdown",
   "metadata": {
    "id": "zPHRr2ENCOXB"
   },
   "source": [
    "-------\n",
    "## Testing Module\n",
    "\n",
    "testModel( ) is a funciton that tests the network and returns the testing loss, the number of correctly predicted labels, and the total amount of data in that iteration."
   ]
  },
  {
   "cell_type": "code",
   "execution_count": 15,
   "metadata": {
    "executionInfo": {
     "elapsed": 474,
     "status": "ok",
     "timestamp": 1622961706666,
     "user": {
      "displayName": "Nour Abdelmoneim",
      "photoUrl": "https://lh3.googleusercontent.com/a-/AOh14GjxMvzHOFzGnWo39XZfwJxdF1owfpgQ1tfYRCr2=s64",
      "userId": "15792553944982680133"
     },
     "user_tz": -240
    },
    "id": "2qwp6ka9COXB"
   },
   "outputs": [],
   "source": [
    "def testModel():\n",
    "    \n",
    "    # evaluating model\n",
    "    model.eval()\n",
    "    \n",
    "    # initializing variables\n",
    "    testLoss = 0\n",
    "    correctLabels = 0\n",
    "    totalData = 0\n",
    "    \n",
    "    with torch.no_grad():\n",
    "        for i, (X,y) in enumerate(test_loader):\n",
    "            \n",
    "            # sending data and labels to device\n",
    "            X = X.to(device)\n",
    "            y = y.to(device)\n",
    "\n",
    "            # feed forward \n",
    "            result = model(X)\n",
    "            \n",
    "            # get prediction\n",
    "            n, predictedLabel = torch.max(result.data,1)\n",
    "\n",
    "            # compute testing loss\n",
    "            currentLoss = criterion(result, y)\n",
    "            \n",
    "            # add current lost to total testing lost\n",
    "            testLoss += currentLoss.data\n",
    "\n",
    "            # incrementing total data \n",
    "            totalData += y.size(0)\n",
    "\n",
    "            # counting correctly predicted labels\n",
    "            correct = (y == predictedLabel).sum()\n",
    "            \n",
    "            # updating total amount of correct predictions\n",
    "            correctLabels += correct\n",
    "        \n",
    "    return testLoss, correctLabels, totalData"
   ]
  },
  {
   "cell_type": "markdown",
   "metadata": {
    "id": "R78ybT0eCOXC"
   },
   "source": [
    "-----\n",
    "# Training and Testing Network"
   ]
  },
  {
   "cell_type": "code",
   "execution_count": null,
   "metadata": {
    "colab": {
     "base_uri": "https://localhost:8080/",
     "height": 1000
    },
    "executionInfo": {
     "elapsed": 2245294,
     "status": "error",
     "timestamp": 1622963957712,
     "user": {
      "displayName": "Nour Abdelmoneim",
      "photoUrl": "https://lh3.googleusercontent.com/a-/AOh14GjxMvzHOFzGnWo39XZfwJxdF1owfpgQ1tfYRCr2=s64",
      "userId": "15792553944982680133"
     },
     "user_tz": -240
    },
    "id": "QVYEMbX_COXC",
    "outputId": "e9d62674-99eb-4972-9982-5327736942a2",
    "scrolled": true
   },
   "outputs": [],
   "source": [
    "# initializing variables to store training and testing loss and accuracy\n",
    "\n",
    "trainingLosses = []\n",
    "trainingAccuracies = []\n",
    "\n",
    "testLosses = []\n",
    "testAccuracies = []\n",
    "\n",
    "# iterate through number of epochs\n",
    "for epoch in range(n_epochs):\n",
    "    \n",
    "    # training model\n",
    "    trainingResult = trainModel() \n",
    "    \n",
    "    # getting training loss from result\n",
    "    trainingLoss = trainingResult[0]\n",
    "    \n",
    "    # calculating training accuracy \n",
    "    trainingAccuracy = (trainingResult[1].item()/trainingResult[2])*100\n",
    "    \n",
    "    # printing training results\n",
    "    print(\"Epoch \", epoch)\n",
    "    print(\"Training loss: {}\".format(trainingLoss))\n",
    "    print(\"Training Accuracy: \", trainingAccuracy)\n",
    "    \n",
    "    # stepping scheduler \n",
    "    scheduler.step() \n",
    "    \n",
    "    # testing model\n",
    "    testResult = testModel()\n",
    "    testLoss = testResult[0]\n",
    "    \n",
    "    # calculating testing accuracy\n",
    "    testAccuracy = (testResult[1].item()/testResult[2])*100\n",
    "    \n",
    "    # printing testing results\n",
    "    print(\"Testing loss: {}\".format(testLoss))\n",
    "    print(\"Testing Accuracy: \", testAccuracy)\n",
    "    \n",
    "    # saving training/testing accuracy and losses\n",
    "    trainingLosses.append(trainingLoss)\n",
    "    trainingAccuracies.append(trainingAccuracy)\n",
    "    testLosses.append(testLoss)\n",
    "    testAccuracies.append(testAccuracy)\n",
    "    \n",
    "    print()"
   ]
  },
  {
   "cell_type": "markdown",
   "metadata": {
    "id": "nlVht0MUCOXC"
   },
   "source": [
    "### Saving Model"
   ]
  },
  {
   "cell_type": "code",
   "execution_count": 17,
   "metadata": {
    "executionInfo": {
     "elapsed": 302,
     "status": "ok",
     "timestamp": 1622963963298,
     "user": {
      "displayName": "Nour Abdelmoneim",
      "photoUrl": "https://lh3.googleusercontent.com/a-/AOh14GjxMvzHOFzGnWo39XZfwJxdF1owfpgQ1tfYRCr2=s64",
      "userId": "15792553944982680133"
     },
     "user_tz": -240
    },
    "id": "8RuY_8v6COXD"
   },
   "outputs": [],
   "source": [
    "torch.save(model.state_dict(),\"modelSaved/model.pth\")"
   ]
  },
  {
   "cell_type": "markdown",
   "metadata": {
    "id": "uccap8AlCOXD"
   },
   "source": [
    "--------\n",
    "\n",
    "# Visualizing Results"
   ]
  },
  {
   "cell_type": "code",
   "execution_count": 18,
   "metadata": {
    "executionInfo": {
     "elapsed": 337,
     "status": "ok",
     "timestamp": 1622963965123,
     "user": {
      "displayName": "Nour Abdelmoneim",
      "photoUrl": "https://lh3.googleusercontent.com/a-/AOh14GjxMvzHOFzGnWo39XZfwJxdF1owfpgQ1tfYRCr2=s64",
      "userId": "15792553944982680133"
     },
     "user_tz": -240
    },
    "id": "kMNrdLclCOXD"
   },
   "outputs": [],
   "source": [
    "import matplotlib.pyplot as plt"
   ]
  },
  {
   "cell_type": "markdown",
   "metadata": {
    "id": "V2SBS_boCOXE"
   },
   "source": [
    "### Visualizing Training and Testing Loss"
   ]
  },
  {
   "cell_type": "code",
   "execution_count": 20,
   "metadata": {
    "colab": {
     "base_uri": "https://localhost:8080/",
     "height": 404
    },
    "executionInfo": {
     "elapsed": 400,
     "status": "ok",
     "timestamp": 1622963988774,
     "user": {
      "displayName": "Nour Abdelmoneim",
      "photoUrl": "https://lh3.googleusercontent.com/a-/AOh14GjxMvzHOFzGnWo39XZfwJxdF1owfpgQ1tfYRCr2=s64",
      "userId": "15792553944982680133"
     },
     "user_tz": -240
    },
    "id": "oyM2792qCOXE",
    "outputId": "cdc17295-c84f-439a-e4c9-6e1a9b488a5e"
   },
   "outputs": [
    {
     "data": {
      "image/png": "[encoded data removed]",
      "text/plain": [
       "<Figure size 720x432 with 1 Axes>"
      ]
     },
     "metadata": {
      "needs_background": "light",
      "tags": []
     },
     "output_type": "display_data"
    }
   ],
   "source": [
    "c = np.arange(0,10)\n",
    "\n",
    "plt.figure(figsize = [10,6])\n",
    "\n",
    "plt.plot(c,trainingLosses, marker = \"+\",color = \"r\")\n",
    "plt.plot(c,testLosses, marker = \"x\", color = \"k\")\n",
    "plt.title(\"Training and Testing Loss\")\n",
    "plt.xlabel(\"Epoch\")\n",
    "plt.ylabel(\"Loss\")\n",
    "plt.legend((\"Training\",\"Testing\"))\n",
    "plt.show()"
   ]
  },
  {
   "cell_type": "code",
   "execution_count": 25,
   "metadata": {
    "colab": {
     "base_uri": "https://localhost:8080/"
    },
    "executionInfo": {
     "elapsed": 299,
     "status": "ok",
     "timestamp": 1622964152200,
     "user": {
      "displayName": "Nour Abdelmoneim",
      "photoUrl": "https://lh3.googleusercontent.com/a-/AOh14GjxMvzHOFzGnWo39XZfwJxdF1owfpgQ1tfYRCr2=s64",
      "userId": "15792553944982680133"
     },
     "user_tz": -240
    },
    "id": "ujcG7_k_COXE",
    "outputId": "ebcde21d-aa01-416b-98b3-5756807b600f"
   },
   "outputs": [
    {
     "name": "stdout",
     "output_type": "stream",
     "text": [
      "Least Training Loss: 108.23265838623047\n",
      "Least Testing Loss: 61.86983108520508\n"
     ]
    }
   ],
   "source": [
    "print(\"Least Training Loss: {}\".format(min(trainingLosses)))\n",
    "print(\"Least Testing Loss: {}\".format(min(testLosses)))"
   ]
  },
  {
   "cell_type": "markdown",
   "metadata": {
    "id": "GcnZkeuxCOXG"
   },
   "source": [
    "Training loss converged at around 2-3 by the halfway point, epoch 25. The lowest training loss was 2.369 which was at epoch 41. Testing loss converged at around 45 by the 10th epoch. The least testing loss was 40.929 which was at epoch 11."
   ]
  },
  {
   "cell_type": "markdown",
   "metadata": {
    "id": "1n3V08DUCOXG"
   },
   "source": [
    "### Visualizing Training and Testing Accuracy"
   ]
  },
  {
   "cell_type": "code",
   "execution_count": 22,
   "metadata": {
    "colab": {
     "base_uri": "https://localhost:8080/",
     "height": 404
    },
    "executionInfo": {
     "elapsed": 402,
     "status": "ok",
     "timestamp": 1622964017231,
     "user": {
      "displayName": "Nour Abdelmoneim",
      "photoUrl": "https://lh3.googleusercontent.com/a-/AOh14GjxMvzHOFzGnWo39XZfwJxdF1owfpgQ1tfYRCr2=s64",
      "userId": "15792553944982680133"
     },
     "user_tz": -240
    },
    "id": "P2ikCJrNCOXG",
    "outputId": "3b72ad16-c132-453e-ca6e-f1ebc5f2d7d6"
   },
   "outputs": [
    {
     "data": {
      "image/png": "[encoded data removed]",
      "text/plain": [
       "<Figure size 720x432 with 1 Axes>"
      ]
     },
     "metadata": {
      "needs_background": "light",
      "tags": []
     },
     "output_type": "display_data"
    }
   ],
   "source": [
    "c = np.arange(0,10)\n",
    "\n",
    "plt.figure(figsize = [10,6])\n",
    "\n",
    "plt.plot(c,trainingAccuracies, marker = \"+\",color = \"r\")\n",
    "plt.plot(c,testAccuracies, marker = \"x\", color = \"k\")\n",
    "plt.title(\"Training and Testing Accuracy\")\n",
    "plt.xlabel(\"Epoch\")\n",
    "plt.ylabel(\"Accuracy\")\n",
    "plt.legend((\"Training\",\"Testing\"))\n",
    "plt.show()"
   ]
  },
  {
   "cell_type": "code",
   "execution_count": 24,
   "metadata": {
    "colab": {
     "base_uri": "https://localhost:8080/"
    },
    "executionInfo": {
     "elapsed": 299,
     "status": "ok",
     "timestamp": 1622964144024,
     "user": {
      "displayName": "Nour Abdelmoneim",
      "photoUrl": "https://lh3.googleusercontent.com/a-/AOh14GjxMvzHOFzGnWo39XZfwJxdF1owfpgQ1tfYRCr2=s64",
      "userId": "15792553944982680133"
     },
     "user_tz": -240
    },
    "id": "oyKwPT38COXG",
    "outputId": "7132418e-10c9-452b-e3e0-3a7a5f9fb8b9"
   },
   "outputs": [
    {
     "name": "stdout",
     "output_type": "stream",
     "text": [
      "Highest Training Accuracy: 94.892\n",
      "Highest Testing Accuracy: 86.26\n"
     ]
    }
   ],
   "source": [
    "print(\"Highest Training Accuracy: {}\".format(max(trainingAccuracies)))\n",
    "print(\"Highest Testing Accuracy: {}\".format(max(testAccuracies)))"
   ]
  },
  {
   "cell_type": "code",
   "execution_count": null,
   "metadata": {
    "colab": {
     "base_uri": "https://localhost:8080/",
     "height": 1000
    },
    "executionInfo": {
     "elapsed": 584,
     "status": "error",
     "timestamp": 1622966191368,
     "user": {
      "displayName": "Nour Abdelmoneim",
      "photoUrl": "https://lh3.googleusercontent.com/a-/AOh14GjxMvzHOFzGnWo39XZfwJxdF1owfpgQ1tfYRCr2=s64",
      "userId": "15792553944982680133"
     },
     "user_tz": -240
    },
    "id": "1OljyZ4LSJA5",
    "outputId": "80c7fcef-1fdd-4c8f-937e-b3fe68ba8ca9"
   },
   "outputs": [],
   "source": [
    "testImage = test_set[0]\n",
    "print(testImage)\n",
    "testLoad = torch.utils.data.DataLoader(dataset=testImage, batch_size=1, shuffle=False)\n",
    "for X in testLoad:\n",
    "    print(X)\n",
    "    print(model(X))"
   ]
  },
  {
   "cell_type": "markdown",
   "metadata": {
    "id": "UozZTAGBCOXH"
   },
   "source": [
    "Training accuracy converged at around 99% at apoch 15-20. The highest training accuracy was 99.998% which occured in epoch 37. Testing accuracy converged at around 91% starting from epoch 12. The highest testing accuracy was 91.61% from epoch 38."
   ]
  }
 ],
 "metadata": {
  "accelerator": "GPU",
  "colab": {
   "collapsed_sections": [],
   "name": "DL_NourAbdelmoneim.ipynb",
   "provenance": []
  },
  "kernelspec": {
   "display_name": "Python 3",
   "language": "python",
   "name": "python3"
  },
  "language_info": {
   "codemirror_mode": {
    "name": "ipython",
    "version": 3
   },
   "file_extension": ".py",
   "mimetype": "text/x-python",
   "name": "python",
   "nbconvert_exporter": "python",
   "pygments_lexer": "ipython3",
   "version": "3.7.4"
  },
  "widgets": {
   "application/vnd.jupyter.widget-state+json": {
    "073b41529a6442ae8052a8288154d8fd": {
     "model_module": "@jupyter-widgets/base",
     "model_name": "LayoutModel",
     "state": {
      "_model_module": "@jupyter-widgets/base",
      "_model_module_version": "1.2.0",
      "_model_name": "LayoutModel",
      "_view_count": null,
      "_view_module": "@jupyter-widgets/base",
      "_view_module_version": "1.2.0",
      "_view_name": "LayoutView",
      "align_content": null,
      "align_items": null,
      "align_self": null,
      "border": null,
      "bottom": null,
      "display": null,
      "flex": null,
      "flex_flow": null,
      "grid_area": null,
      "grid_auto_columns": null,
      "grid_auto_flow": null,
      "grid_auto_rows": null,
      "grid_column": null,
      "grid_gap": null,
      "grid_row": null,
      "grid_template_areas": null,
      "grid_template_columns": null,
      "grid_template_rows": null,
      "height": null,
      "justify_content": null,
      "justify_items": null,
      "left": null,
      "margin": null,
      "max_height": null,
      "max_width": null,
      "min_height": null,
      "min_width": null,
      "object_fit": null,
      "object_position": null,
      "order": null,
      "overflow": null,
      "overflow_x": null,
      "overflow_y": null,
      "padding": null,
      "right": null,
      "top": null,
      "visibility": null,
      "width": null
     }
    },
    "0ab7465b5807419880b1067ad6f7d636": {
     "model_module": "@jupyter-widgets/controls",
     "model_name": "HBoxModel",
     "state": {
      "_dom_classes": [],
      "_model_module": "@jupyter-widgets/controls",
      "_model_module_version": "1.5.0",
      "_model_name": "HBoxModel",
      "_view_count": null,
      "_view_module": "@jupyter-widgets/controls",
      "_view_module_version": "1.5.0",
      "_view_name": "HBoxView",
      "box_style": "",
      "children": [
       "IPY_MODEL_fc64ee54055241ada32d343d08aaaa25",
       "IPY_MODEL_26d7ab0bb4294fdba9a551070ac70f97"
      ],
      "layout": "IPY_MODEL_a931bc4c92234ae1a7d0db7b93b6624c"
     }
    },
    "26d7ab0bb4294fdba9a551070ac70f97": {
     "model_module": "@jupyter-widgets/controls",
     "model_name": "HTMLModel",
     "state": {
      "_dom_classes": [],
      "_model_module": "@jupyter-widgets/controls",
      "_model_module_version": "1.5.0",
      "_model_name": "HTMLModel",
      "_view_count": null,
      "_view_module": "@jupyter-widgets/controls",
      "_view_module_version": "1.5.0",
      "_view_name": "HTMLView",
      "description": "",
      "description_tooltip": null,
      "layout": "IPY_MODEL_073b41529a6442ae8052a8288154d8fd",
      "placeholder": "​",
      "style": "IPY_MODEL_981ac6c344a84b519855ed839069856b",
      "value": " 170499072/? [01:01&lt;00:00, 2767142.82it/s]"
     }
    },
    "981ac6c344a84b519855ed839069856b": {
     "model_module": "@jupyter-widgets/controls",
     "model_name": "DescriptionStyleModel",
     "state": {
      "_model_module": "@jupyter-widgets/controls",
      "_model_module_version": "1.5.0",
      "_model_name": "DescriptionStyleModel",
      "_view_count": null,
      "_view_module": "@jupyter-widgets/base",
      "_view_module_version": "1.2.0",
      "_view_name": "StyleView",
      "description_width": ""
     }
    },
    "a931bc4c92234ae1a7d0db7b93b6624c": {
     "model_module": "@jupyter-widgets/base",
     "model_name": "LayoutModel",
     "state": {
      "_model_module": "@jupyter-widgets/base",
      "_model_module_version": "1.2.0",
      "_model_name": "LayoutModel",
      "_view_count": null,
      "_view_module": "@jupyter-widgets/base",
      "_view_module_version": "1.2.0",
      "_view_name": "LayoutView",
      "align_content": null,
      "align_items": null,
      "align_self": null,
      "border": null,
      "bottom": null,
      "display": null,
      "flex": null,
      "flex_flow": null,
      "grid_area": null,
      "grid_auto_columns": null,
      "grid_auto_flow": null,
      "grid_auto_rows": null,
      "grid_column": null,
      "grid_gap": null,
      "grid_row": null,
      "grid_template_areas": null,
      "grid_template_columns": null,
      "grid_template_rows": null,
      "height": null,
      "justify_content": null,
      "justify_items": null,
      "left": null,
      "margin": null,
      "max_height": null,
      "max_width": null,
      "min_height": null,
      "min_width": null,
      "object_fit": null,
      "object_position": null,
      "order": null,
      "overflow": null,
      "overflow_x": null,
      "overflow_y": null,
      "padding": null,
      "right": null,
      "top": null,
      "visibility": null,
      "width": null
     }
    },
    "d87f641ddc45454b83b8463e92d60ae6": {
     "model_module": "@jupyter-widgets/controls",
     "model_name": "ProgressStyleModel",
     "state": {
      "_model_module": "@jupyter-widgets/controls",
      "_model_module_version": "1.5.0",
      "_model_name": "ProgressStyleModel",
      "_view_count": null,
      "_view_module": "@jupyter-widgets/base",
      "_view_module_version": "1.2.0",
      "_view_name": "StyleView",
      "bar_color": null,
      "description_width": "initial"
     }
    },
    "f8c6d7a2fdb640eb893f8b43459465ec": {
     "model_module": "@jupyter-widgets/base",
     "model_name": "LayoutModel",
     "state": {
      "_model_module": "@jupyter-widgets/base",
      "_model_module_version": "1.2.0",
      "_model_name": "LayoutModel",
      "_view_count": null,
      "_view_module": "@jupyter-widgets/base",
      "_view_module_version": "1.2.0",
      "_view_name": "LayoutView",
      "align_content": null,
      "align_items": null,
      "align_self": null,
      "border": null,
      "bottom": null,
      "display": null,
      "flex": null,
      "flex_flow": null,
      "grid_area": null,
      "grid_auto_columns": null,
      "grid_auto_flow": null,
      "grid_auto_rows": null,
      "grid_column": null,
      "grid_gap": null,
      "grid_row": null,
      "grid_template_areas": null,
      "grid_template_columns": null,
      "grid_template_rows": null,
      "height": null,
      "justify_content": null,
      "justify_items": null,
      "left": null,
      "margin": null,
      "max_height": null,
      "max_width": null,
      "min_height": null,
      "min_width": null,
      "object_fit": null,
      "object_position": null,
      "order": null,
      "overflow": null,
      "overflow_x": null,
      "overflow_y": null,
      "padding": null,
      "right": null,
      "top": null,
      "visibility": null,
      "width": null
     }
    },
    "fc64ee54055241ada32d343d08aaaa25": {
     "model_module": "@jupyter-widgets/controls",
     "model_name": "FloatProgressModel",
     "state": {
      "_dom_classes": [],
      "_model_module": "@jupyter-widgets/controls",
      "_model_module_version": "1.5.0",
      "_model_name": "FloatProgressModel",
      "_view_count": null,
      "_view_module": "@jupyter-widgets/controls",
      "_view_module_version": "1.5.0",
      "_view_name": "ProgressView",
      "bar_style": "success",
      "description": "",
      "description_tooltip": null,
      "layout": "IPY_MODEL_f8c6d7a2fdb640eb893f8b43459465ec",
      "max": 170498071,
      "min": 0,
      "orientation": "horizontal",
      "style": "IPY_MODEL_d87f641ddc45454b83b8463e92d60ae6",
      "value": 170498071
     }
    }
   }
  }
 },
 "nbformat": 4,
 "nbformat_minor": 1
}
